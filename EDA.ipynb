{
 "cells": [
  {
   "cell_type": "code",
   "execution_count": 1,
   "id": "2926af22",
   "metadata": {},
   "outputs": [],
   "source": [
    "#importing the basic libraries\n",
    "import pandas as pd\n",
    "import numpy as np\n",
    "import seaborn as sns\n",
    "%matplotlib inline\n",
    "import matplotlib.pyplot as plt"
   ]
  },
  {
   "cell_type": "code",
   "execution_count": 2,
   "id": "3b072a26",
   "metadata": {},
   "outputs": [],
   "source": [
    "import warnings\n",
    "\n",
    "# Suppress future warnings\n",
    "warnings.simplefilter(action='ignore', category=FutureWarning)"
   ]
  },
  {
   "cell_type": "code",
   "execution_count": 19,
   "id": "e3b9df15",
   "metadata": {},
   "outputs": [],
   "source": [
    "#read the clean CSV file\n",
    "df = pd.read_csv(\"clean_airbnb_data.csv\")"
   ]
  },
  {
   "cell_type": "code",
   "execution_count": 4,
   "id": "a5744861",
   "metadata": {},
   "outputs": [
    {
     "data": {
      "text/plain": [
       "neighbourhood\n",
       "Bedford-Stuyvesant    5331\n",
       "Williamsburg          5079\n",
       "Harlem                3659\n",
       "Bushwick              3270\n",
       "Hell's Kitchen        2817\n",
       "Upper West Side       2601\n",
       "Upper East Side       2460\n",
       "Midtown               2317\n",
       "East Village          2285\n",
       "Crown Heights         2173\n",
       "Name: count, dtype: int64"
      ]
     },
     "execution_count": 4,
     "metadata": {},
     "output_type": "execute_result"
    }
   ],
   "source": [
    "# Finding the 10 neighborhoods with the most Airbnb locations.\n",
    "df[\"neighbourhood\"].value_counts().head(10)"
   ]
  },
  {
   "cell_type": "code",
   "execution_count": 5,
   "id": "cb5a63a9",
   "metadata": {},
   "outputs": [
    {
     "data": {
      "text/plain": [
       "count    69305.000000\n",
       "mean       624.736070\n",
       "std        331.158937\n",
       "min         50.000000\n",
       "25%        339.000000\n",
       "50%        624.736070\n",
       "75%        911.000000\n",
       "max       1200.000000\n",
       "Name: price, dtype: float64"
      ]
     },
     "execution_count": 5,
     "metadata": {},
     "output_type": "execute_result"
    }
   ],
   "source": [
    "df['price'].describe()"
   ]
  },
  {
   "cell_type": "code",
   "execution_count": 6,
   "id": "d25e15df",
   "metadata": {},
   "outputs": [
    {
     "name": "stdout",
     "output_type": "stream",
     "text": [
      "Mean:  624.7360700839849\n",
      "Integerized Mean:  624\n",
      "Standardized Mean:  624\n"
     ]
    }
   ],
   "source": [
    "## Central Tendency (Mean)\n",
    "\n",
    "#calculate the mean\n",
    "print(\"Mean: \",df['price'].mean())\n",
    "\n",
    "#convert to integer\n",
    "print(\"Integerized Mean: \", int(df['price'].mean()))\n",
    "\n",
    "#in the standard format\n",
    "print(\"Standardized Mean: \",\"{:,}\".format(int(df['price'].mean())))"
   ]
  },
  {
   "cell_type": "code",
   "execution_count": 7,
   "id": "ea0eedda",
   "metadata": {},
   "outputs": [
    {
     "name": "stdout",
     "output_type": "stream",
     "text": [
      "Median:  624.7360700839849\n"
     ]
    }
   ],
   "source": [
    "#Let's calculate the Median (central value)\n",
    "\n",
    "print(\"Median: \", df['price'].median())"
   ]
  },
  {
   "cell_type": "code",
   "execution_count": 8,
   "id": "7078e291",
   "metadata": {},
   "outputs": [
    {
     "data": {
      "text/plain": [
       "<Axes: xlabel='price', ylabel='Count'>"
      ]
     },
     "execution_count": 8,
     "metadata": {},
     "output_type": "execute_result"
    },
    {
     "data": {
      "image/png": "[encoded data removed]",
      "text/plain": [
       "<Figure size 640x480 with 1 Axes>"
      ]
     },
     "metadata": {},
     "output_type": "display_data"
    }
   ],
   "source": [
    "sns.histplot(df[\"price\"])"
   ]
  },
  {
   "cell_type": "code",
   "execution_count": 9,
   "id": "46eaaa87",
   "metadata": {},
   "outputs": [
    {
     "data": {
      "text/plain": [
       "<Axes: xlabel='price'>"
      ]
     },
     "execution_count": 9,
     "metadata": {},
     "output_type": "execute_result"
    },
    {
     "data": {
      "image/png": "[encoded data removed]",
      "text/plain": [
       "<Figure size 640x480 with 1 Axes>"
      ]
     },
     "metadata": {},
     "output_type": "display_data"
    }
   ],
   "source": [
    "sns.boxplot(x=df['price']) "
   ]
  },
  {
   "cell_type": "code",
   "execution_count": 10,
   "id": "52ee8aaa",
   "metadata": {},
   "outputs": [
    {
     "data": {
      "text/plain": [
       "count    69305.000000\n",
       "mean         8.687988\n",
       "std         34.538817\n",
       "min      -1223.000000\n",
       "25%          2.000000\n",
       "50%          3.000000\n",
       "75%          6.000000\n",
       "max       5645.000000\n",
       "Name: minimum nights, dtype: float64"
      ]
     },
     "execution_count": 10,
     "metadata": {},
     "output_type": "execute_result"
    }
   ],
   "source": [
    "df['minimum nights'].describe()"
   ]
  },
  {
   "cell_type": "code",
   "execution_count": 12,
   "id": "c373a048",
   "metadata": {},
   "outputs": [
    {
     "name": "stdout",
     "output_type": "stream",
     "text": [
      "Mean:  8.687987879662362\n",
      "Integerized Mean:  8\n",
      "Standardized Mean:  8\n"
     ]
    }
   ],
   "source": [
    "## Central Tendency (Mean)\n",
    "\n",
    "#calculate the mean\n",
    "print(\"Mean: \",df['minimum nights'].mean())\n",
    "\n",
    "#convert to integer\n",
    "print(\"Integerized Mean: \", int(df['minimum nights'].mean()))\n",
    "\n",
    "#in the standard format\n",
    "print(\"Standardized Mean: \",\"{:,}\".format(int(df['minimum nights'].mean())))"
   ]
  },
  {
   "cell_type": "code",
   "execution_count": 13,
   "id": "da7b6171",
   "metadata": {},
   "outputs": [
    {
     "name": "stdout",
     "output_type": "stream",
     "text": [
      "Median:  3.0\n"
     ]
    }
   ],
   "source": [
    "#Let's calculate the Median (central value)\n",
    "\n",
    "print(\"Median: \", df['minimum nights'].median())"
   ]
  },
  {
   "cell_type": "code",
   "execution_count": 14,
   "id": "14ca6292",
   "metadata": {},
   "outputs": [
    {
     "data": {
      "text/plain": [
       "count    69305.000000\n",
       "mean       153.184287\n",
       "std        134.421373\n",
       "min        -10.000000\n",
       "25%         18.000000\n",
       "50%        127.000000\n",
       "75%        281.000000\n",
       "max        426.000000\n",
       "Name: availability 365, dtype: float64"
      ]
     },
     "execution_count": 14,
     "metadata": {},
     "output_type": "execute_result"
    }
   ],
   "source": [
    "df['availability 365'].describe()"
   ]
  },
  {
   "cell_type": "code",
   "execution_count": 15,
   "id": "60a92f16",
   "metadata": {},
   "outputs": [
    {
     "name": "stdout",
     "output_type": "stream",
     "text": [
      "Mean:  153.18428684799076\n",
      "Integerized Mean:  153\n",
      "Standardized Mean:  153\n"
     ]
    }
   ],
   "source": [
    "## Central Tendency (Mean)\n",
    "\n",
    "#calculate the mean\n",
    "print(\"Mean: \",df['availability 365'].mean())\n",
    "\n",
    "#convert to integer\n",
    "print(\"Integerized Mean: \", int(df['availability 365'].mean()))\n",
    "\n",
    "#in the standard format\n",
    "print(\"Standardized Mean: \",\"{:,}\".format(int(df['availability 365'].mean())))"
   ]
  },
  {
   "cell_type": "code",
   "execution_count": 17,
   "id": "f9ae5e63",
   "metadata": {},
   "outputs": [
    {
     "data": {
      "text/plain": [
       "count         69305\n",
       "unique            9\n",
       "top       Manhattan\n",
       "freq          29586\n",
       "Name: neighbourhood group, dtype: object"
      ]
     },
     "execution_count": 17,
     "metadata": {},
     "output_type": "execute_result"
    }
   ],
   "source": [
    "df['neighbourhood group'].describe()"
   ]
  },
  {
   "cell_type": "code",
   "execution_count": 20,
   "id": "289a963e",
   "metadata": {},
   "outputs": [
    {
     "data": {
      "image/png": "[encoded data removed]",
      "text/plain": [
       "<Figure size 1000x600 with 1 Axes>"
      ]
     },
     "metadata": {},
     "output_type": "display_data"
    }
   ],
   "source": [
    "plt.figure(figsize=(10, 6))  # Set the figure size\n",
    "\n",
    "# Create the bar plot using Seaborn\n",
    "sns.countplot(x='neighbourhood group', data=df)\n",
    "\n",
    "plt.title('Frequency of Each Category')  # Set the title of the plot\n",
    "plt.xlabel('Categories')  # Set the label for the x-axis\n",
    "plt.ylabel('Frequency')  # Set the label for the y-axis\n",
    "\n",
    "plt.xticks(rotation=45)  # Rotate x-axis labels for better readability if needed\n",
    "\n",
    "plt.show()  # Show the plot"
   ]
  },
  {
   "cell_type": "code",
   "execution_count": null,
   "id": "7f932b9a",
   "metadata": {},
   "outputs": [],
   "source": []
  }
 ],
 "metadata": {
  "kernelspec": {
   "display_name": "Python 3 (ipykernel)",
   "language": "python",
   "name": "python3"
  },
  "language_info": {
   "codemirror_mode": {
    "name": "ipython",
    "version": 3
   },
   "file_extension": ".py",
   "mimetype": "text/x-python",
   "name": "python",
   "nbconvert_exporter": "python",
   "pygments_lexer": "ipython3",
   "version": "3.11.5"
  }
 },
 "nbformat": 4,
 "nbformat_minor": 5
}
